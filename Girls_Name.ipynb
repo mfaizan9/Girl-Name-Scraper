{
 "cells": [
  {
   "cell_type": "code",
   "execution_count": 1,
   "id": "c9990b10",
   "metadata": {
    "ExecuteTime": {
     "end_time": "2022-06-08T03:52:56.301366Z",
     "start_time": "2022-06-08T03:52:55.728961Z"
    }
   },
   "outputs": [],
   "source": [
    "#imports here\n",
    "from selenium import webdriver\n",
    "from selenium.webdriver.common.keys import Keys\n",
    "from selenium.webdriver.support import expected_conditions as EC\n",
    "from selenium.webdriver.common.by import By\n",
    "from selenium.webdriver.support.wait import WebDriverWait\n",
    "from selenium.webdriver.common.action_chains import ActionChains\n",
    "import time\n",
    "import os\n",
    "import wget\n",
    "from bs4 import BeautifulSoup"
   ]
  },
  {
   "cell_type": "code",
   "execution_count": 2,
   "id": "58869f12",
   "metadata": {
    "ExecuteTime": {
     "end_time": "2022-06-08T03:52:56.406357Z",
     "start_time": "2022-06-08T03:52:56.383350Z"
    }
   },
   "outputs": [],
   "source": [
    "# to disable alerts\n",
    "chrome_options = webdriver.ChromeOptions()\n",
    "prefs = {\"profile.default_content_setting_values.notifications\" : 2}\n",
    "chrome_options.add_experimental_option(\"prefs\",prefs)"
   ]
  },
  {
   "cell_type": "code",
   "execution_count": 47,
   "id": "8dcde5de",
   "metadata": {
    "ExecuteTime": {
     "end_time": "2022-06-08T04:04:20.918500Z",
     "start_time": "2022-06-08T04:03:41.919074Z"
    }
   },
   "outputs": [
    {
     "name": "stderr",
     "output_type": "stream",
     "text": [
      "C:\\Users\\MUHAMM~1\\AppData\\Local\\Temp/ipykernel_3828/1511767913.py:2: DeprecationWarning: executable_path has been deprecated, please pass in a Service object\n",
      "  driver = webdriver.Chrome('C:/Users/Muhammad Faizan/Desktop/WEBSCRAPING/SELENIUM/chromedriver.exe', chrome_options=chrome_options)\n",
      "C:\\Users\\MUHAMM~1\\AppData\\Local\\Temp/ipykernel_3828/1511767913.py:2: DeprecationWarning: use options instead of chrome_options\n",
      "  driver = webdriver.Chrome('C:/Users/Muhammad Faizan/Desktop/WEBSCRAPING/SELENIUM/chromedriver.exe', chrome_options=chrome_options)\n"
     ]
    }
   ],
   "source": [
    "#specify the path to chromedriver.exe (download and save on your computer)\n",
    "driver = webdriver.Chrome('C:/Users/Muhammad Faizan/Desktop/WEBSCRAPING/SELENIUM/chromedriver.exe', chrome_options=chrome_options)\n",
    "link = \"https://www.behindthename.com/names/gender/feminine\"\n",
    "driver.get(link)\n"
   ]
  },
  {
   "cell_type": "code",
   "execution_count": 7,
   "id": "d53913b2",
   "metadata": {
    "ExecuteTime": {
     "end_time": "2022-06-08T03:53:45.922035Z",
     "start_time": "2022-06-08T03:53:45.913042Z"
    }
   },
   "outputs": [],
   "source": [
    "NAMES = []"
   ]
  },
  {
   "cell_type": "code",
   "execution_count": 54,
   "id": "03b7c886",
   "metadata": {
    "ExecuteTime": {
     "end_time": "2022-06-08T04:05:48.743667Z",
     "start_time": "2022-06-08T04:05:46.841840Z"
    }
   },
   "outputs": [
    {
     "name": "stdout",
     "output_type": "stream",
     "text": [
      "11805\n"
     ]
    }
   ],
   "source": [
    "\n",
    "\n",
    "\n",
    "\n",
    "\n",
    "\n",
    "\n",
    "\n",
    "html = driver.page_source\n",
    "soup = BeautifulSoup(html , \"lxml\")\n",
    "\n",
    "name = soup.find_all(\"a\" , class_ = \"nll\")\n",
    "for j in range(len(name)):\n",
    "    N = name[j].text\n",
    "    NAMES.append(N)\n",
    "print(len(NAMES))"
   ]
  },
  {
   "cell_type": "code",
   "execution_count": 55,
   "id": "f004321c",
   "metadata": {
    "ExecuteTime": {
     "end_time": "2022-06-08T04:05:59.263085Z",
     "start_time": "2022-06-08T04:05:59.246095Z"
    }
   },
   "outputs": [
    {
     "data": {
      "text/plain": [
       "11805"
      ]
     },
     "execution_count": 55,
     "metadata": {},
     "output_type": "execute_result"
    }
   ],
   "source": [
    "len(NAMES)"
   ]
  },
  {
   "cell_type": "code",
   "execution_count": 56,
   "id": "4b8a8a8b",
   "metadata": {
    "ExecuteTime": {
     "end_time": "2022-06-08T04:06:05.954056Z",
     "start_time": "2022-06-08T04:06:05.945060Z"
    }
   },
   "outputs": [
    {
     "data": {
      "text/plain": [
       "'Zyta'"
      ]
     },
     "execution_count": 56,
     "metadata": {},
     "output_type": "execute_result"
    }
   ],
   "source": [
    "NAMES[11804]"
   ]
  },
  {
   "cell_type": "code",
   "execution_count": 57,
   "id": "1927c467",
   "metadata": {
    "ExecuteTime": {
     "end_time": "2022-06-08T04:06:19.550491Z",
     "start_time": "2022-06-08T04:06:19.513516Z"
    }
   },
   "outputs": [],
   "source": [
    "import csv\n",
    "\n",
    "with open('names40.csv', 'w', encoding='UTF8') as f:\n",
    "    writer = csv.writer(f)\n",
    "\n",
    "    # write the header\n",
    "    writer.writerow(NAMES)"
   ]
  },
  {
   "cell_type": "code",
   "execution_count": null,
   "id": "0293b1c7",
   "metadata": {},
   "outputs": [],
   "source": []
  }
 ],
 "metadata": {
  "kernelspec": {
   "display_name": "Python 3 (ipykernel)",
   "language": "python",
   "name": "python3"
  },
  "language_info": {
   "codemirror_mode": {
    "name": "ipython",
    "version": 3
   },
   "file_extension": ".py",
   "mimetype": "text/x-python",
   "name": "python",
   "nbconvert_exporter": "python",
   "pygments_lexer": "ipython3",
   "version": "3.9.7"
  },
  "latex_envs": {
   "LaTeX_envs_menu_present": true,
   "autoclose": true,
   "autocomplete": true,
   "bibliofile": "biblio.bib",
   "cite_by": "apalike",
   "current_citInitial": 1,
   "eqLabelWithNumbers": true,
   "eqNumInitial": 1,
   "hotkeys": {
    "equation": "Ctrl-E",
    "itemize": "Ctrl-I"
   },
   "labels_anchors": false,
   "latex_user_defs": false,
   "report_style_numbering": true,
   "user_envs_cfg": true
  },
  "varInspector": {
   "cols": {
    "lenName": 16,
    "lenType": 16,
    "lenVar": 40
   },
   "kernels_config": {
    "python": {
     "delete_cmd_postfix": "",
     "delete_cmd_prefix": "del ",
     "library": "var_list.py",
     "varRefreshCmd": "print(var_dic_list())"
    },
    "r": {
     "delete_cmd_postfix": ") ",
     "delete_cmd_prefix": "rm(",
     "library": "var_list.r",
     "varRefreshCmd": "cat(var_dic_list()) "
    }
   },
   "types_to_exclude": [
    "module",
    "function",
    "builtin_function_or_method",
    "instance",
    "_Feature"
   ],
   "window_display": false
  }
 },
 "nbformat": 4,
 "nbformat_minor": 5
}
